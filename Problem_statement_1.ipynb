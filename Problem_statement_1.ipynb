{
  "nbformat": 4,
  "nbformat_minor": 0,
  "metadata": {
    "colab": {
      "name": "Problem statement 1.ipynb",
      "provenance": [],
      "collapsed_sections": []
    },
    "kernelspec": {
      "name": "python3",
      "display_name": "Python 3"
    },
    "language_info": {
      "name": "python"
    }
  },
  "cells": [
    {
      "cell_type": "code",
      "metadata": {
        "id": "zjXqLWKdNfGf"
      },
      "source": [
        "import random"
      ],
      "execution_count": 213,
      "outputs": []
    },
    {
      "cell_type": "code",
      "metadata": {
        "colab": {
          "base_uri": "https://localhost:8080/"
        },
        "id": "EB8F4anZNiOE",
        "outputId": "7a9bc0e6-39c5-4fe0-a815-b6b3f999f57e"
      },
      "source": [
        "start=int(input('enter a starting range'))\n",
        "end=int(input('enter a end range'))"
      ],
      "execution_count": 214,
      "outputs": [
        {
          "output_type": "stream",
          "text": [
            "enter a starting range2\n",
            "enter a end range30\n"
          ],
          "name": "stdout"
        }
      ]
    },
    {
      "cell_type": "code",
      "metadata": {
        "colab": {
          "base_uri": "https://localhost:8080/"
        },
        "id": "VtYovJL9N5p0",
        "outputId": "2cc17b56-eb32-4fb1-e53c-7be613b7fa22"
      },
      "source": [
        "rand_no=random.randint(start,end)\n",
        "rand_no"
      ],
      "execution_count": 215,
      "outputs": [
        {
          "output_type": "execute_result",
          "data": {
            "text/plain": [
              "18"
            ]
          },
          "metadata": {
            "tags": []
          },
          "execution_count": 215
        }
      ]
    },
    {
      "cell_type": "code",
      "metadata": {
        "id": "1mh3he4kOHEb"
      },
      "source": [
        "total_guess=0"
      ],
      "execution_count": 216,
      "outputs": []
    },
    {
      "cell_type": "code",
      "metadata": {
        "id": "y-zkBbo0U3Ts"
      },
      "source": [
        "gues=[]"
      ],
      "execution_count": 218,
      "outputs": []
    },
    {
      "cell_type": "code",
      "metadata": {
        "colab": {
          "base_uri": "https://localhost:8080/"
        },
        "id": "e4kVj964YEmA",
        "outputId": "915e8188-27a2-4452-b7e5-01ab7658aabe"
      },
      "source": [
        "print('Minimum Number of guesses 5  \\U0001F31F')"
      ],
      "execution_count": 220,
      "outputs": [
        {
          "output_type": "stream",
          "text": [
            "Minimum Number of guesses 5  🌟\n"
          ],
          "name": "stdout"
        }
      ]
    },
    {
      "cell_type": "code",
      "metadata": {
        "colab": {
          "base_uri": "https://localhost:8080/"
        },
        "id": "a4ZwqG8GOUAr",
        "outputId": "b8118245-81dd-49e2-c7e7-1f1cb6f422a3"
      },
      "source": [
        "while (total_guess<=5):\n",
        "  total_guess=total_guess+1\n",
        "\n",
        "  guess=int(input('guess the number:'))\n",
        "  gues.append([guess])\n",
        "  \n",
        "  if guess<rand_no:\n",
        "    print('Please try again! The number you guessed is too small \\U0001F617')\n",
        "\n",
        "  elif guess>rand_no:\n",
        "    print('Please try again! The number you guessed is too high')\n",
        "    \n",
        "  else:\n",
        "    print('Yeah! You identified the number \\U0001F617')\n",
        "\n",
        "    break\n",
        "\n",
        "print('thanks for playing')\n",
        "print('you are guessessing', total_guess,'times \\n')\n",
        "print('your guessing number::',gues)\n",
        "\n",
        "if len(gues)>=5:\n",
        "    print('Oops! All you chances are finished. Better luck next time!  \\U0001F923')\n",
        "\n"
      ],
      "execution_count": 221,
      "outputs": [
        {
          "output_type": "stream",
          "text": [
            "guess the number:2\n",
            "Please try again! The number you guessed is too small 😗\n",
            "guess the number:3\n",
            "Please try again! The number you guessed is too small 😗\n",
            "guess the number:18\n",
            "Yeah! You identified the number 😗\n",
            "thanks for playing\n",
            "you are guessessing 3 times \n",
            "\n",
            "your guessing number:: [[2], [3], [18]]\n"
          ],
          "name": "stdout"
        }
      ]
    },
    {
      "cell_type": "code",
      "metadata": {
        "id": "KB3RRbRagVT3"
      },
      "source": [
        ""
      ],
      "execution_count": 212,
      "outputs": []
    }
  ]
}